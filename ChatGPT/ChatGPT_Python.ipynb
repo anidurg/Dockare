{
 "cells": [
  {
   "cell_type": "code",
   "execution_count": 2,
   "id": "de4fab24",
   "metadata": {},
   "outputs": [],
   "source": [
    "import openai"
   ]
  },
  {
   "cell_type": "code",
   "execution_count": 4,
   "id": "48839bd1",
   "metadata": {},
   "outputs": [],
   "source": [
    "import os\n",
    "\n",
    "from dotenv import load_dotenv\n",
    "load_dotenv()\n",
    "app_token=os.getenv('anita_chatgpt_key')\n",
    "#print(app_token)"
   ]
  },
  {
   "cell_type": "code",
   "execution_count": 18,
   "id": "2ba455c4",
   "metadata": {},
   "outputs": [],
   "source": [
    "openai.api_key = app_token"
   ]
  },
  {
   "cell_type": "code",
   "execution_count": 9,
   "id": "7a72441d",
   "metadata": {},
   "outputs": [],
   "source": [
    "messages = [ {\"role\": \"system\", \"content\": \"You are a intelligent assistant.\"} ]"
   ]
  },
  {
   "cell_type": "code",
   "execution_count": null,
   "id": "549e21ef",
   "metadata": {},
   "outputs": [
    {
     "name": "stdout",
     "output_type": "stream",
     "text": [
      "User : what is Springboard Data science course?\n",
      "ChatGPT: Springboard Data Science course is an online learning platform that provides a comprehensive program in data science and machine learning. The course is designed to equip learners with the skills required to become a data scientist. The course provides hands-on experience in data analysis, data wrangling, statistical analysis, machine learning, and data visualization. \n",
      "\n",
      "The program consists of interactive online modules, project-based learning, and one-on-one mentorship from industry experts. The program is self-paced, and learners can complete it in 6-9 months depending on their schedule and pace.\n",
      "\n",
      "Springboard's data science curriculum covers a range of topics, including Python programming, SQL, data visualization, statistical inference, machine learning algorithms, deep learning, natural language processing, data engineering, and big data technologies such as Hadoop and Spark. \n",
      "\n",
      "Upon completion of the program, learners receive a certificate of completion, and Springboard provides career support such as resume review, job search strategies, and interview preparation to help graduates land jobs in the data science field.\n",
      "User : what is itoluzimab\n",
      "ChatGPT: I'm sorry, but I am not aware of a substance named \"itoluzimab\". Can you please provide more context or information about it?\n",
      "User : what is Itolizumab?\n",
      "ChatGPT: Itolizumab is a humanized monoclonal antibody medication primarily used for the treatment of psoriasis. It was developed by a biopharmaceutical company in India named Biocon. In 2020, due to its potential to be useful in the treatment of severe respiratory distress caused by COVID-19, India's Drug Controller General approved its clinical trial as a potential COVID-19 treatment. Itolizumab targets a cellular adhesion molecule (CD6) that plays a role in the activation and proliferation of T lymphocytes. It works by reducing the activity of T cells, which contributes to inflammatory diseases such as psoriasis and potentially severe respiratory distress caused by infection. Although it shows promise, its effectiveness and safety in the treatment of COVID-19 are still being studied in clinical trials.\n"
     ]
    }
   ],
   "source": [
    "while True:\n",
    "    message = input(\"User : \")\n",
    "    if message:\n",
    "        messages.append(\n",
    "            {\"role\": \"user\", \"content\": message},\n",
    "        )\n",
    "        chat = openai.ChatCompletion.create(\n",
    "            model=\"gpt-3.5-turbo\", messages=messages\n",
    "        )\n",
    "    reply = chat.choices[0].message.content\n",
    "    print(f\"ChatGPT: {reply}\")\n",
    "    messages.append({\"role\": \"assistant\", \"content\": reply})"
   ]
  },
  {
   "cell_type": "code",
   "execution_count": null,
   "id": "cc8339c7",
   "metadata": {},
   "outputs": [],
   "source": []
  }
 ],
 "metadata": {
  "hide_input": false,
  "kernelspec": {
   "display_name": "Python 3 (ipykernel)",
   "language": "python",
   "name": "python3"
  },
  "language_info": {
   "codemirror_mode": {
    "name": "ipython",
    "version": 3
   },
   "file_extension": ".py",
   "mimetype": "text/x-python",
   "name": "python",
   "nbconvert_exporter": "python",
   "pygments_lexer": "ipython3",
   "version": "3.9.13"
  }
 },
 "nbformat": 4,
 "nbformat_minor": 5
}
